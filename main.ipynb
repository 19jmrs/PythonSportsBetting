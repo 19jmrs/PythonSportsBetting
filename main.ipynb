{
 "cells": [
  {
   "cell_type": "code",
   "execution_count": 3,
   "metadata": {},
   "outputs": [
    {
     "name": "stdout",
     "output_type": "stream",
     "text": [
      "    Div        Date   Time          HomeTeam       AwayTeam  FTHG  FTAG FTR  \\\n",
      "0    E0  11/08/2023  20:00           Burnley       Man City     0     3   A   \n",
      "1    E0  12/08/2023  12:30           Arsenal  Nott'm Forest     2     1   H   \n",
      "2    E0  12/08/2023  15:00       Bournemouth       West Ham     1     1   D   \n",
      "3    E0  12/08/2023  15:00          Brighton          Luton     4     1   H   \n",
      "4    E0  12/08/2023  15:00           Everton         Fulham     0     1   A   \n",
      "..   ..         ...    ...               ...            ...   ...   ...  ..   \n",
      "375  E0  19/05/2024  16:00    Crystal Palace    Aston Villa     5     0   H   \n",
      "376  E0  19/05/2024  16:00         Liverpool         Wolves     2     0   H   \n",
      "377  E0  19/05/2024  16:00             Luton         Fulham     2     4   A   \n",
      "378  E0  19/05/2024  16:00          Man City       West Ham     3     1   H   \n",
      "379  E0  19/05/2024  16:00  Sheffield United      Tottenham     0     3   A   \n",
      "\n",
      "     HTHG  HTAG  ... AvgC<2.5  AHCh  B365CAHH  B365CAHA  PCAHH  PCAHA  \\\n",
      "0       0     2  ...     2.28  1.50      1.95      1.98   1.95   1.97   \n",
      "1       2     0  ...     2.63 -2.00      1.95      1.98   1.93   1.97   \n",
      "2       0     0  ...     2.12  0.00      2.02      1.91   2.01   1.92   \n",
      "3       1     0  ...     2.48 -1.75      2.01      1.92   2.00   1.91   \n",
      "4       0     0  ...     1.71 -0.25      2.06      1.87   2.04   1.88   \n",
      "..    ...   ...  ...      ...   ...       ...       ...    ...    ...   \n",
      "375     2     0  ...     2.78 -0.75      1.73      2.08   1.78   2.16   \n",
      "376     2     0  ...     5.17 -2.75      2.07      1.86   2.04   1.85   \n",
      "377     1     2  ...     2.69  0.25      2.00      1.93   1.99   1.93   \n",
      "378     2     1  ...     4.82 -3.00      2.03      1.90   1.99   1.90   \n",
      "379     0     1  ...     3.81  1.50      2.06      1.87   2.05   1.88   \n",
      "\n",
      "     MaxCAHH  MaxCAHA  AvgCAHH  AvgCAHA  \n",
      "0        NaN      NaN     1.92     1.95  \n",
      "1       2.01     2.09     1.95     1.92  \n",
      "2       2.06     1.96     1.96     1.91  \n",
      "3       2.14     1.93     2.00     1.86  \n",
      "4       2.08     1.99     1.98     1.88  \n",
      "..       ...      ...      ...      ...  \n",
      "375     1.93     2.21     1.81     2.05  \n",
      "376     2.10     1.89     2.04     1.82  \n",
      "377     2.02     1.94     1.96     1.91  \n",
      "378     2.05     1.99     1.96     1.91  \n",
      "379     2.08     1.89     2.01     1.86  \n",
      "\n",
      "[380 rows x 106 columns]\n"
     ]
    }
   ],
   "source": [
    "import pandas as pd\n",
    "\n",
    "# read database for 2023/2024\n",
    "base = pd.read_csv(\"https://www.football-data.co.uk/mmz4281/2324/E0.csv\")\n",
    "base.to_csv(\"Base.csv\", index=False)"
   ]
  }
 ],
 "metadata": {
  "kernelspec": {
   "display_name": "Python 3",
   "language": "python",
   "name": "python3"
  },
  "language_info": {
   "codemirror_mode": {
    "name": "ipython",
    "version": 3
   },
   "file_extension": ".py",
   "mimetype": "text/x-python",
   "name": "python",
   "nbconvert_exporter": "python",
   "pygments_lexer": "ipython3",
   "version": "3.12.5"
  }
 },
 "nbformat": 4,
 "nbformat_minor": 2
}
