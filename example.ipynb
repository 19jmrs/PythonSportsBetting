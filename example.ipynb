{
 "cells": [
  {
   "cell_type": "markdown",
   "metadata": {},
   "source": [
    "# Python for Sports Betting\n",
    "## Tools: "
   ]
  },
  {
   "cell_type": "markdown",
   "metadata": {},
   "source": [
    "\n",
    "### 1. Pandas\n",
    "#### How to Install?\n",
    "Pandas can be installed by running the command **pip install pandas** .\n",
    "#### What to use it for?\n",
    "Pandas can be used to perform multiple operations over the data, it is one of the most powerfull tools for data analytics.\n",
    "#### Code Examples of Pandas Usage"
   ]
  },
  {
   "cell_type": "code",
   "execution_count": null,
   "metadata": {},
   "outputs": [],
   "source": [
    "import pandas as pd\n",
    "\n",
    "\n",
    "URL = \"https://www.football-data.co.uk/mmz4281/2324/E0.csv\"\n",
    "# read database for 2023/2024\n",
    "base = pd.read_csv(URL)\n",
    "# create a file of the database in csv format\n",
    "#base.to_csv(\"Base.csv\", index=False)\n",
    "\n",
    "#display the first lines of the dataframe\n",
    "base.head()\n",
    "\n",
    "#display columns in a list\n",
    "base.columns.to_list()"
   ]
  },
  {
   "cell_type": "markdown",
   "metadata": {},
   "source": [
    "#### Selecting specific Columns using Pandas"
   ]
  },
  {
   "cell_type": "code",
   "execution_count": null,
   "metadata": {},
   "outputs": [],
   "source": [
    "# columns to use\n",
    "columns = [\"Date\",\"HomeTeam\",\"AwayTeam\",\"FTHG\",\"FTAG\",\"FTR\",\"B365H\",\"B365D\",\"B365A\",\"B365>2.5\",\"B365<2.5\"]\n",
    "\n",
    "# new data frame with the selected columns\n",
    "df = base[columns]\n",
    "\n",
    "df.head()"
   ]
  },
  {
   "cell_type": "markdown",
   "metadata": {},
   "source": [
    "#### Renaming the Columns using Pandas"
   ]
  },
  {
   "cell_type": "code",
   "execution_count": null,
   "metadata": {},
   "outputs": [],
   "source": [
    "# change columns names\n",
    "df.columns = [\"Date\",\"Home\",\"Away\",\"Goals_H\",\"Goals_A\",\"Result\",\"Odd_H\",\"Odd_D\",\"Odd_A\",\"Odd_Over25\",\"Odd_Under25\"]\n",
    "\n",
    "display(df)"
   ]
  },
  {
   "cell_type": "markdown",
   "metadata": {},
   "source": [
    "#### Building Filter using Pandas"
   ]
  },
  {
   "cell_type": "code",
   "execution_count": null,
   "metadata": {},
   "outputs": [],
   "source": [
    "# Building a filter where home team won the game\n",
    "home_win = df[df['Goals_H'] > df['Goals_A']]\n",
    "\n",
    "home_win"
   ]
  },
  {
   "cell_type": "markdown",
   "metadata": {},
   "source": [
    "#### Basic Statistcs using Pandas"
   ]
  },
  {
   "cell_type": "code",
   "execution_count": null,
   "metadata": {},
   "outputs": [],
   "source": [
    "average_gols = df[['Goals_H', 'Goals_A']].mean()\n",
    "print('Average Goals per Match:')\n",
    "print(average_gols)"
   ]
  },
  {
   "cell_type": "markdown",
   "metadata": {},
   "source": [
    "#### Filtering Bets"
   ]
  },
  {
   "cell_type": "code",
   "execution_count": null,
   "metadata": {},
   "outputs": [],
   "source": [
    "future_matches = pd.read_csv('https://www.football-data.co.uk/fixtures.csv')\n",
    "future_matches\n",
    "\n",
    "columns = ['Date','HomeTeam','AwayTeam','B365H','B365D','B365A','B365>2.5','B365<2.5']\n",
    "future_matches = future_matches[columns]\n",
    "future_matches.columns = ['Date','Home','Away','Odd_H','Odd_D','Odd_A','Odd_Over25','Odd_Under25']\n",
    "matches_to_bet = future_matches[future_matches['Odd_H'] <= 1.50]\n",
    "matches_to_bet"
   ]
  },
  {
   "cell_type": "markdown",
   "metadata": {},
   "source": [
    "### 2. Numpy\n",
    "#### How to Install?\n",
    "To install Numpy please run the following command: **pip install numpy**"
   ]
  },
  {
   "cell_type": "markdown",
   "metadata": {},
   "source": [
    "#### Numpy Arrays"
   ]
  },
  {
   "cell_type": "code",
   "execution_count": null,
   "metadata": {},
   "outputs": [],
   "source": [
    "import numpy as np\n",
    "\n",
    "#array with winning odds for 5 matches\n",
    "win_odds = np.array([2.0,1.8,2.5,2.2,1.9])\n",
    "\n",
    "print(f\"Winning odds: {win_odds}\")"
   ]
  },
  {
   "cell_type": "markdown",
   "metadata": {},
   "source": [
    "#### Calculate Potential Profit"
   ]
  },
  {
   "cell_type": "code",
   "execution_count": null,
   "metadata": {},
   "outputs": [],
   "source": [
    "stake = 100\n",
    "\n",
    "potential_profit = (stake * win_odds) - stake\n",
    "\n",
    "print(f\"Potential profit: {potential_profit}\")"
   ]
  },
  {
   "cell_type": "markdown",
   "metadata": {},
   "source": [
    "#### Filter Match by Odd"
   ]
  },
  {
   "cell_type": "code",
   "execution_count": null,
   "metadata": {},
   "outputs": [],
   "source": [
    "big_odds = win_odds[win_odds > 2.0]\n",
    "print(f\"Big odds: {big_odds}\")"
   ]
  },
  {
   "cell_type": "markdown",
   "metadata": {},
   "source": [
    "### 3. Matplotlib\n",
    "#### How to install Matplotlib?\n",
    "You can install Matplotlib by running the following command: **pip install matplotlib**\n",
    "#### What to use this for?\n",
    "Matplotlib is very usefull to build up visualizations on your data"
   ]
  },
  {
   "cell_type": "markdown",
   "metadata": {},
   "source": [
    "#### Bars Graph: Goals Scored per Team graph"
   ]
  },
  {
   "cell_type": "code",
   "execution_count": null,
   "metadata": {},
   "outputs": [],
   "source": [
    "import matplotlib.pyplot as plt\n",
    "\n",
    "teams = ['Team A', 'Team B', 'Team C', 'Team D']\n",
    "\n",
    "goals = [50, 40, 60, 75]\n",
    "\n",
    "# goals per teams\n",
    "plt.bar(teams, goals, color = \"blue\")\n",
    "plt.xlabel(\"Teams\")\n",
    "plt.ylabel(\"Goals Scored\")\n",
    "plt.title(\"Goals Scored per Team 2023/2024\")\n",
    "\n",
    "plt.show()"
   ]
  },
  {
   "cell_type": "markdown",
   "metadata": {},
   "source": [
    "#### Line Graph: Odds Trendline"
   ]
  },
  {
   "cell_type": "code",
   "execution_count": null,
   "metadata": {},
   "outputs": [],
   "source": [
    "week = range(1,11)\n",
    "odds_team_a = [2.0, 1.8, 2.5, 2.2, 1.9, 2.0, 1.8, 2.5, 2.2, 1.9]\n",
    "\n",
    "plt.plot(week, odds_team_a, marker='o', linestyle='-', color='r')\n",
    "plt.xlabel('Week')\n",
    "plt.ylabel('Odds Team A')\n",
    "plt.title('Odds Variations of Team A 2023/2024')\n",
    "plt.show()"
   ]
  },
  {
   "cell_type": "markdown",
   "metadata": {},
   "source": [
    "#### Scatter Plot: Odds Correlation"
   ]
  },
  {
   "cell_type": "code",
   "execution_count": null,
   "metadata": {},
   "outputs": [],
   "source": [
    "Odds_H = [1.44, 1.55, 2.25, 2.1, 1.36, 1.75, 1.66, 2.05, 1.45, 2.74]\n",
    "Odds_D = [4, 4.2, 3.5,3, 2.9, 5, 4.5, 2.20, 3.8, 3.1]\n",
    "\n",
    "plt.scatter(Odds_H, Odds_D)\n",
    "plt.xlabel('Odd Home')\n",
    "plt.ylabel('Odd Draw')\n",
    "plt.title('Correlation between Odds')\n",
    "plt.show()"
   ]
  },
  {
   "cell_type": "code",
   "execution_count": null,
   "metadata": {},
   "outputs": [],
   "source": []
  }
 ],
 "metadata": {
  "kernelspec": {
   "display_name": "Python 3",
   "language": "python",
   "name": "python3"
  },
  "language_info": {
   "codemirror_mode": {
    "name": "ipython",
    "version": 3
   },
   "file_extension": ".py",
   "mimetype": "text/x-python",
   "name": "python",
   "nbconvert_exporter": "python",
   "pygments_lexer": "ipython3",
   "version": "3.12.5"
  }
 },
 "nbformat": 4,
 "nbformat_minor": 2
}
